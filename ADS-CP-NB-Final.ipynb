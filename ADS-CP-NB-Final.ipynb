{
 "cells": [
  {
   "cell_type": "markdown",
   "metadata": {},
   "source": [
    "# Capstone Project - The Battle of the Neighborhoods (Week 4 & 5)\n",
    "### Applied Data Science Capstone by IBM/Coursera"
   ]
  },
  {
   "cell_type": "markdown",
   "metadata": {},
   "source": [
    "## Table of contents\n",
    "* [Introduction: Business Problem](#introduction)\n",
    "* [Data](#data)\n",
    "* [Methodology](#methodology)\n",
    "* [Analysis](#analysis)\n",
    "* [Results and Discussion](#results)\n",
    "* [Conclusion](#conclusion)"
   ]
  },
  {
   "cell_type": "markdown",
   "metadata": {},
   "source": [
    "## Introduction: Business Problem <a name=\"introduction\"></a>"
   ]
  },
  {
   "cell_type": "markdown",
   "metadata": {},
   "source": [
    "In this project I will try to provide solution a hypothetical business requirement.\n",
    "\n",
    "I have been approached by the owner of a authentic Chinese restaurant chain to find the next best neighbourhood in Mumbai city for opening a new Chinese restaurant. \n",
    "\n",
    "Mumbai being the melting pot of India is full of restaurants of all sorts of cuisine, with most them multi-cuisine. \n",
    "\n",
    "The objective of the project is to find the best possible location for a Chinese restaurant. The report will be useful to those who would like to open a Chinese restaurant in Mumbai, India.\n",
    "\n",
    "The criteria for selecting a neighbourhood would be:\n",
    "\n",
    "* Location with least density of restaurants\n",
    "* Areas with no or less Chinese restaurant"
   ]
  },
  {
   "cell_type": "markdown",
   "metadata": {},
   "source": [
    "## Data <a name=\"data\"></a>"
   ]
  },
  {
   "cell_type": "markdown",
   "metadata": {},
   "source": [
    "Following are the rules for selection of neighbourhood:\n",
    "* Number restaurants in the neighbourhood\n",
    "* Number of Chinese restaurants in the neighbourhood and their distance from the centre of neighbourhood\n",
    "    \n",
    "Following data sources will be used to collect data:\n",
    "* **Wikipedia** for Mumbai neighbourhoods and their co-ordinates.\n",
    "* **Foursquare** for restaurant data\n",
    "* Co-ordinates of Mumbai center will be obtained from **www.latlong.net** using 'Kurla Station' which happens to be at the center of current Mumbai.\n"
   ]
  },
  {
   "cell_type": "code",
   "execution_count": null,
   "metadata": {},
   "outputs": [],
   "source": []
  }
 ],
 "metadata": {
  "kernelspec": {
   "display_name": "Python 3",
   "language": "python",
   "name": "python3"
  },
  "language_info": {
   "codemirror_mode": {
    "name": "ipython",
    "version": 3
   },
   "file_extension": ".py",
   "mimetype": "text/x-python",
   "name": "python",
   "nbconvert_exporter": "python",
   "pygments_lexer": "ipython3",
   "version": "3.6.8"
  }
 },
 "nbformat": 4,
 "nbformat_minor": 2
}
